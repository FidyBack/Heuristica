{
  "cells": [
    {
      "cell_type": "markdown",
      "metadata": {
        "id": "L2gAYBjX_MBM"
      },
      "source": [
        "**GERADOR DE INSTÂNCIAS PARA COMPARAÇÃO DE SEQUENCIAS DE DNA**\n",
        "\n",
        "Para usar este gerador, você deve fornecer três parâmetros:\n",
        "\n",
        "n = tamanho da primeira sequencia \n",
        "\n",
        "m = tamanho da segunda instância \n",
        "\n",
        "file = nome do arquivo da instância a ser gerada"
      ]
    },
    {
      "cell_type": "code",
      "execution_count": 10,
      "metadata": {
        "colab": {
          "base_uri": "https://localhost:8080/"
        },
        "id": "_s7Cbahf_LId",
        "outputId": "1ac73e4b-1f04-4170-d159-bb3a861bc4d6"
      },
      "outputs": [],
      "source": [
        "import random, os\n",
        "\n",
        "levels = ['1', '2', '3', '4', '5', '6', '7']\n",
        "m_list = [10, 100, 1000, 10000, 100000, 1000000, 10000000]\n",
        "n = 50\n",
        "\n",
        "for i in range(len(levels)):\n",
        "     for j in range(10):\n",
        "          file = f'entradas_{levels[i]}/dna{j}.seq'\n",
        "\n",
        "          if not os.path.exists(os.path.dirname(file)):\n",
        "               os.makedirs(os.path.dirname(file))\n",
        "\n",
        "          with open(file, 'w+') as f:\n",
        "               seq=[str(n)+'\\n',\n",
        "                    str(m_list[i])+'\\n',\n",
        "                    ''.join(random.choices(['A','T','C','G','-'],k=n))+'\\n',\n",
        "                    ''.join(random.choices(['A','T','C','G','-'],k=m_list[i]))]\n",
        "               f.writelines(seq)"
      ]
    }
  ],
  "metadata": {
    "colab": {
      "collapsed_sections": [],
      "name": "SequenceGenerator.ipynb",
      "provenance": []
    },
    "kernelspec": {
      "display_name": "Python 3",
      "name": "python3"
    },
    "language_info": {
      "codemirror_mode": {
        "name": "ipython",
        "version": 3
      },
      "file_extension": ".py",
      "mimetype": "text/x-python",
      "name": "python",
      "nbconvert_exporter": "python",
      "pygments_lexer": "ipython3",
      "version": "3.8.10"
    }
  },
  "nbformat": 4,
  "nbformat_minor": 0
}
