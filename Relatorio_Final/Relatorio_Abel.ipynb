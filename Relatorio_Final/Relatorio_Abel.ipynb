{
 "cells": [
  {
   "cell_type": "markdown",
   "metadata": {},
   "source": [
    "# Relatório Final - Abel Cavalcante\n",
    "---\n",
    "Este relatório apresenta o resultado de três projetos, todos calculando o alinhamento de duas sequências de DNA distintas:  \n",
    "- A primeira usa uma Busca Exaustiva;\n",
    "- A segunda usa um método de paralelização da mesma Busca Exaustiva usando a biblioteca OpenMP;\n",
    "- E, por fim, a Busca Exaustiva é calculada dentro de uma GPU.\n",
    "---"
   ]
  },
  {
   "cell_type": "markdown",
   "metadata": {},
   "source": [
    "### Preparações\n",
    " \n",
    "Em todos os testes, as mesmas entradas foram utilizadas e todas foram geradas pelo notebook *SequenceGenerator.ipynb*. Este arquivo gera 7 pastas de entradas, e em cada pasta há 5 arquivos com diferentes sequências de DNA. Cada pasta é separada de acordo com o tamanho das sequências: a sequência 1 possui tamanho fixo de 50, já a sequência 2 muda de acordo com a pasta.\n",
    " \n",
    "A primeira pasta *entradas_1* possui a sequência 2 de tamanho 10, e em cada pasta subsequente o tamanho do sequência 2 aumenta, sendo sempre multiplicado por 10: a pasta *entradas_2* possui a sequência com tamanho 100, a *entrada_3* possui tamanho 1000, e assim por diante."
   ]
  },
  {
   "cell_type": "markdown",
   "metadata": {},
   "source": [
    "---\n",
    "### Busca Exaustiva\n",
    "\n",
    "Na Busca Exaustiva, foram utilizados os arquivos criados na etapa de preparação:\n",
    "\n"
   ]
  },
  {
   "cell_type": "code",
   "execution_count": null,
   "metadata": {},
   "outputs": [],
   "source": [
    "import subprocess, os\n",
    "import matplotlib.pyplot as plt"
   ]
  },
  {
   "cell_type": "code",
   "execution_count": null,
   "metadata": {},
   "outputs": [],
   "source": [
    "def mean_files(mean, algorithm, files):\n",
    "    for i in range(files):\n",
    "        times = []\n",
    "        for filename in os.listdir(f'Entradas/entradas_{i+1}'):\n",
    "            with open(f'Entradas/entradas_{i+1}/{filename}', 'r') as file:\n",
    "                proc = subprocess.run([f'Codigos/{algorithm}'], stdin=file, stdout=subprocess.PIPE)\n",
    "                out = proc.stdout.decode('utf-8')\n",
    "\n",
    "                if 'Tempo' in out:\n",
    "                    times.append(float(out.split('\\n')[-2].split(' ')[-2]))\n",
    "\n",
    "        mean.append(sum(times) / len(times))"
   ]
  },
  {
   "cell_type": "markdown",
   "metadata": {},
   "source": [
    "Cada tamanho foi testado 5 vezes e foi feita uma média dos tempos obtidos. Assim, foi feito um gráfico juntando o tempo médio para cada tamanho de entrada, em ms:"
   ]
  },
  {
   "cell_type": "code",
   "execution_count": null,
   "metadata": {},
   "outputs": [],
   "source": [
    "means_exaust = []\n",
    "mean_files(means_exaust, 'exaust', 4)\n",
    "with open('Output/exaust.txt', 'w') as file:\n",
    "    for i in range(len(means_exaust)):\n",
    "        file.write(f'{means_exaust[i]}\\n')"
   ]
  },
  {
   "cell_type": "code",
   "execution_count": null,
   "metadata": {},
   "outputs": [],
   "source": [
    "sizes_exaust = ['10', '100', '1e3', '1e4']\n",
    "\n",
    "plt.figure(figsize = (10, 7))\n",
    "plt.plot(sizes_exaust, means_exaust)\n",
    "plt.xlabel('Tamanho do arquivo')\n",
    "plt.ylabel('Tempo de execução (ms)')\n",
    "plt.title('Tempo de execução por tamanho do arquivo')\n",
    "plt.grid(True)\n",
    "plt.show()"
   ]
  },
  {
   "cell_type": "markdown",
   "metadata": {},
   "source": [
    "---\n",
    "### Busca Exaustiva usando OpenMP\n",
    "\n",
    "No segundo método, a busca exaustiva foi paralelizada usando a biblioteca OpenMP:"
   ]
  },
  {
   "cell_type": "code",
   "execution_count": null,
   "metadata": {},
   "outputs": [],
   "source": [
    "means_open = []\n",
    "mean_files(means_open, 'open', 4)\n",
    "with open('Output/exaust.txt', 'w') as file:\n",
    "    for i in range(len(means_open)):\n",
    "        file.write(f'{means_open[i]}\\n')"
   ]
  },
  {
   "cell_type": "code",
   "execution_count": null,
   "metadata": {},
   "outputs": [],
   "source": [
    "sizes_open = sizes_exaust\n",
    "\n",
    "plt.figure(figsize = (10, 7))\n",
    "plt.plot(sizes_open, means_open)\n",
    "plt.xlabel('Tamanho do arquivo')\n",
    "plt.ylabel('Tempo de execução (ms)')\n",
    "plt.title('Tempo de execução por tamanho do arquivo')\n",
    "plt.grid(True)\n",
    "plt.show()"
   ]
  },
  {
   "cell_type": "code",
   "execution_count": null,
   "metadata": {},
   "outputs": [],
   "source": [
    "plt.figure(figsize = (10, 7))\n",
    "plt.plot(sizes_exaust, means_exaust)\n",
    "plt.plot(sizes_open, means_open)\n",
    "plt.legend(['Busca Exaustiva', 'OpenMP'])\n",
    "plt.xlabel('Tamanho do arquivo')\n",
    "plt.ylabel('Tempo de execução (ms)')\n",
    "plt.title('Tempo de execução por tamanho do arquivo')\n",
    "plt.grid(True)\n",
    "plt.show()"
   ]
  },
  {
   "cell_type": "markdown",
   "metadata": {},
   "source": [
    "---\n",
    "### Busca Exaustiva dentro da gpu\n",
    "\n",
    "Por fim, foi feito uma Busca Exaustiva dentro da GPU:"
   ]
  },
  {
   "cell_type": "code",
   "execution_count": null,
   "metadata": {},
   "outputs": [],
   "source": [
    "means_gpu = []\n",
    "mean_files(means_gpu, 'gpu', 4)\n",
    "with open('Output/exaust.txt', 'w') as file:\n",
    "    for i in range(len(means_gpu)):\n",
    "        file.write(f'{means_gpu[i]}\\n')"
   ]
  },
  {
   "cell_type": "code",
   "execution_count": null,
   "metadata": {},
   "outputs": [],
   "source": [
    "sizes_gpu = [ '10', '100', '1e3', '1e4']\n",
    "\n",
    "plt.figure(figsize = (10, 7))\n",
    "plt.plot(sizes_gpu, means_gpu)\n",
    "plt.xlabel('Tamanho do arquivo')\n",
    "plt.ylabel('Tempo de execução (ms)')\n",
    "plt.title('Tempo de execução por tamanho do arquivo')\n",
    "plt.grid(True)\n",
    "plt.show()"
   ]
  },
  {
   "cell_type": "markdown",
   "metadata": {},
   "source": [
    "E uma comparação entre os três programas foi feito:"
   ]
  },
  {
   "cell_type": "code",
   "execution_count": null,
   "metadata": {},
   "outputs": [],
   "source": [
    "fig, axs = plt.subplots(2, figsize = (13, 10), sharex=True)\n",
    "fig.suptitle('Tempo de execução por tamanho do arquivo')\n",
    "\n",
    "plt.rcParams['font.size'] = '14'\n",
    "\n",
    "axs[0].set_title('Escala Normal')\n",
    "axs[0].ticklabel_format(axis=\"y\", style=\"sci\", scilimits=(0,0))\n",
    "\n",
    "axs[1].set_title('Escala Log')\n",
    "axs[1].set_yscale('log')\n",
    "\n",
    "for ax in axs:\n",
    "    ax.plot(sizes_exaust, means_exaust)\n",
    "    ax.plot(sizes_open, means_open)\n",
    "    ax.plot(sizes_gpu, means_gpu)\n",
    "    ax.legend(['Busca Exaustiva', 'OpenMP', 'GPU'])\n",
    "    ax.grid(True)\n",
    "\n",
    "for ax in axs.flat:\n",
    "    ax.set(xlabel='Tamanho do arquivo', ylabel='Tempo de execução (ms)')\n",
    "\n",
    "for ax in axs.flat:\n",
    "    ax.label_outer()"
   ]
  },
  {
   "cell_type": "markdown",
   "metadata": {},
   "source": [
    "Conclusão"
   ]
  }
 ],
 "metadata": {
  "interpreter": {
   "hash": "916dbcbb3f70747c44a77c7bcd40155683ae19c65e1c03b4aa3499c5328201f1"
  },
  "kernelspec": {
   "display_name": "Python 3.8.10 64-bit",
   "language": "python",
   "name": "python3"
  },
  "language_info": {
   "codemirror_mode": {
    "name": "ipython",
    "version": 3
   },
   "file_extension": ".py",
   "mimetype": "text/x-python",
   "name": "python",
   "nbconvert_exporter": "python",
   "pygments_lexer": "ipython3",
   "version": "3.8.10"
  },
  "orig_nbformat": 4
 },
 "nbformat": 4,
 "nbformat_minor": 2
}
