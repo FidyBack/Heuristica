{
 "cells": [
  {
   "cell_type": "markdown",
   "metadata": {},
   "source": [
    "# Relatório Final - Abel Cavalcante\n",
    "---\n",
    "Este relatório apresenta o resultado de três projetos, todos calculando o alinhamento de duas sequências de DNA distintas:  \n",
    "- A primeira usa uma Busca Exaustiva;\n",
    "- A segunda usa um método de paralelização da mesma Busca Exaustiva usando a biblioteca OpenMP;\n",
    "- E, por fim, a Busca Exaustiva é calculada dentro de uma GPU.\n",
    "---"
   ]
  },
  {
   "cell_type": "markdown",
   "metadata": {},
   "source": [
    "### Preparações\n",
    " \n",
    "Em todos os testes, as mesmas entradas foram utilizadas e todas foram geradas pelo notebook *SequenceGenerator.ipynb*. Este arquivo gera 7 pastas de entradas, e em cada pasta há 5 arquivos com diferentes sequências de DNA. Cada pasta é separada de acordo com o tamanho das sequências: a sequência 1 possui tamanho fixo de 50, já a sequência 2 muda de acordo com a pasta.\n",
    " \n",
    "A primeira pasta *entradas_1* possui a sequência 2 de tamanho 10, e em cada pasta subsequente o tamanho do sequência 2 aumenta, sendo sempre multiplicado por 10: a pasta *entradas_2* possui a sequência com tamanho 100, a *entrada_3* possui tamanho 1000, e assim por diante."
   ]
  },
  {
   "cell_type": "markdown",
   "metadata": {},
   "source": [
    "---\n",
    "### Busca Exaustiva\n",
    "\n",
    "Na Busca Exaustiva, foram utilizados os arquivos criados na etapa de preparação:\n",
    "\n"
   ]
  },
  {
   "cell_type": "code",
   "execution_count": 6,
   "metadata": {},
   "outputs": [],
   "source": [
    "import subprocess, os\n",
    "import matplotlib.pyplot as plt"
   ]
  },
  {
   "cell_type": "code",
   "execution_count": 7,
   "metadata": {},
   "outputs": [],
   "source": [
    "def mean_files(mean, algorithm, files):\n",
    "    for i in range(files):\n",
    "        times = []\n",
    "        for filename in os.listdir(f'Entradas/entradas_{i+1}'):\n",
    "            with open(f'Entradas/entradas_{i+1}/{filename}', 'r') as file:\n",
    "                proc = subprocess.run([f'Codigos/{algorithm}'], stdin=file, stdout=subprocess.PIPE)\n",
    "                out = proc.stdout.decode('utf-8')\n",
    "\n",
    "                if 'Tempo' in out:\n",
    "                    times.append(float(out.split('\\n')[-2].split(' ')[-2]))\n",
    "\n",
    "        mean.append(sum(times) / len(times))"
   ]
  },
  {
   "cell_type": "markdown",
   "metadata": {},
   "source": [
    "Cada tamanho foi testado 5 vezes e foi feita uma média dos tempos obtidos. Assim, foi feito um gráfico juntando o tempo médio para cada tamanho de entrada, em ms:"
   ]
  },
  {
   "cell_type": "code",
   "execution_count": 3,
   "metadata": {},
   "outputs": [
    {
     "ename": "KeyboardInterrupt",
     "evalue": "",
     "output_type": "error",
     "traceback": [
      "\u001b[0;31m---------------------------------------------------------------------------\u001b[0m",
      "\u001b[0;31mKeyboardInterrupt\u001b[0m                         Traceback (most recent call last)",
      "\u001b[1;32m/media/abel/MySSD/Insper/2022_1_7_Semestre/Supercomputacao/Projetos/Relatorio_Final/Relatorio_Abel.ipynb Cell 7'\u001b[0m in \u001b[0;36m<cell line: 2>\u001b[0;34m()\u001b[0m\n\u001b[1;32m      <a href='vscode-notebook-cell:/media/abel/MySSD/Insper/2022_1_7_Semestre/Supercomputacao/Projetos/Relatorio_Final/Relatorio_Abel.ipynb#ch0000006?line=0'>1</a>\u001b[0m means_exaust \u001b[39m=\u001b[39m []\n\u001b[0;32m----> <a href='vscode-notebook-cell:/media/abel/MySSD/Insper/2022_1_7_Semestre/Supercomputacao/Projetos/Relatorio_Final/Relatorio_Abel.ipynb#ch0000006?line=1'>2</a>\u001b[0m mean_files(means_exaust, \u001b[39m'\u001b[39;49m\u001b[39mexaust\u001b[39;49m\u001b[39m'\u001b[39;49m, \u001b[39m4\u001b[39;49m)\n\u001b[1;32m      <a href='vscode-notebook-cell:/media/abel/MySSD/Insper/2022_1_7_Semestre/Supercomputacao/Projetos/Relatorio_Final/Relatorio_Abel.ipynb#ch0000006?line=2'>3</a>\u001b[0m \u001b[39mwith\u001b[39;00m \u001b[39mopen\u001b[39m(\u001b[39m'\u001b[39m\u001b[39mOutput/exaust.txt\u001b[39m\u001b[39m'\u001b[39m, \u001b[39m'\u001b[39m\u001b[39mw\u001b[39m\u001b[39m'\u001b[39m) \u001b[39mas\u001b[39;00m file:\n\u001b[1;32m      <a href='vscode-notebook-cell:/media/abel/MySSD/Insper/2022_1_7_Semestre/Supercomputacao/Projetos/Relatorio_Final/Relatorio_Abel.ipynb#ch0000006?line=3'>4</a>\u001b[0m     \u001b[39mfor\u001b[39;00m i \u001b[39min\u001b[39;00m \u001b[39mrange\u001b[39m(\u001b[39mlen\u001b[39m(means_exaust)):\n",
      "\u001b[1;32m/media/abel/MySSD/Insper/2022_1_7_Semestre/Supercomputacao/Projetos/Relatorio_Final/Relatorio_Abel.ipynb Cell 5'\u001b[0m in \u001b[0;36mmean_files\u001b[0;34m(mean, algorithm, files)\u001b[0m\n\u001b[1;32m      <a href='vscode-notebook-cell:/media/abel/MySSD/Insper/2022_1_7_Semestre/Supercomputacao/Projetos/Relatorio_Final/Relatorio_Abel.ipynb#ch0000004?line=3'>4</a>\u001b[0m \u001b[39mfor\u001b[39;00m filename \u001b[39min\u001b[39;00m os\u001b[39m.\u001b[39mlistdir(\u001b[39mf\u001b[39m\u001b[39m'\u001b[39m\u001b[39mEntradas/entradas_\u001b[39m\u001b[39m{\u001b[39;00mi\u001b[39m+\u001b[39m\u001b[39m1\u001b[39m\u001b[39m}\u001b[39;00m\u001b[39m'\u001b[39m):\n\u001b[1;32m      <a href='vscode-notebook-cell:/media/abel/MySSD/Insper/2022_1_7_Semestre/Supercomputacao/Projetos/Relatorio_Final/Relatorio_Abel.ipynb#ch0000004?line=4'>5</a>\u001b[0m     \u001b[39mwith\u001b[39;00m \u001b[39mopen\u001b[39m(\u001b[39mf\u001b[39m\u001b[39m'\u001b[39m\u001b[39mEntradas/entradas_\u001b[39m\u001b[39m{\u001b[39;00mi\u001b[39m+\u001b[39m\u001b[39m1\u001b[39m\u001b[39m}\u001b[39;00m\u001b[39m/\u001b[39m\u001b[39m{\u001b[39;00mfilename\u001b[39m}\u001b[39;00m\u001b[39m'\u001b[39m, \u001b[39m'\u001b[39m\u001b[39mr\u001b[39m\u001b[39m'\u001b[39m) \u001b[39mas\u001b[39;00m file:\n\u001b[0;32m----> <a href='vscode-notebook-cell:/media/abel/MySSD/Insper/2022_1_7_Semestre/Supercomputacao/Projetos/Relatorio_Final/Relatorio_Abel.ipynb#ch0000004?line=5'>6</a>\u001b[0m         proc \u001b[39m=\u001b[39m subprocess\u001b[39m.\u001b[39;49mrun([\u001b[39mf\u001b[39;49m\u001b[39m'\u001b[39;49m\u001b[39mCodigos/\u001b[39;49m\u001b[39m{\u001b[39;49;00malgorithm\u001b[39m}\u001b[39;49;00m\u001b[39m'\u001b[39;49m], stdin\u001b[39m=\u001b[39;49mfile, stdout\u001b[39m=\u001b[39;49msubprocess\u001b[39m.\u001b[39;49mPIPE)\n\u001b[1;32m      <a href='vscode-notebook-cell:/media/abel/MySSD/Insper/2022_1_7_Semestre/Supercomputacao/Projetos/Relatorio_Final/Relatorio_Abel.ipynb#ch0000004?line=6'>7</a>\u001b[0m         out \u001b[39m=\u001b[39m proc\u001b[39m.\u001b[39mstdout\u001b[39m.\u001b[39mdecode(\u001b[39m'\u001b[39m\u001b[39mutf-8\u001b[39m\u001b[39m'\u001b[39m)\n\u001b[1;32m      <a href='vscode-notebook-cell:/media/abel/MySSD/Insper/2022_1_7_Semestre/Supercomputacao/Projetos/Relatorio_Final/Relatorio_Abel.ipynb#ch0000004?line=8'>9</a>\u001b[0m         \u001b[39mif\u001b[39;00m \u001b[39m'\u001b[39m\u001b[39mTempo\u001b[39m\u001b[39m'\u001b[39m \u001b[39min\u001b[39;00m out:\n",
      "File \u001b[0;32m/usr/lib/python3.8/subprocess.py:495\u001b[0m, in \u001b[0;36mrun\u001b[0;34m(input, capture_output, timeout, check, *popenargs, **kwargs)\u001b[0m\n\u001b[1;32m    493\u001b[0m \u001b[39mwith\u001b[39;00m Popen(\u001b[39m*\u001b[39mpopenargs, \u001b[39m*\u001b[39m\u001b[39m*\u001b[39mkwargs) \u001b[39mas\u001b[39;00m process:\n\u001b[1;32m    494\u001b[0m     \u001b[39mtry\u001b[39;00m:\n\u001b[0;32m--> 495\u001b[0m         stdout, stderr \u001b[39m=\u001b[39m process\u001b[39m.\u001b[39;49mcommunicate(\u001b[39minput\u001b[39;49m, timeout\u001b[39m=\u001b[39;49mtimeout)\n\u001b[1;32m    496\u001b[0m     \u001b[39mexcept\u001b[39;00m TimeoutExpired \u001b[39mas\u001b[39;00m exc:\n\u001b[1;32m    497\u001b[0m         process\u001b[39m.\u001b[39mkill()\n",
      "File \u001b[0;32m/usr/lib/python3.8/subprocess.py:1015\u001b[0m, in \u001b[0;36mPopen.communicate\u001b[0;34m(self, input, timeout)\u001b[0m\n\u001b[1;32m   1013\u001b[0m     \u001b[39mself\u001b[39m\u001b[39m.\u001b[39m_stdin_write(\u001b[39minput\u001b[39m)\n\u001b[1;32m   1014\u001b[0m \u001b[39melif\u001b[39;00m \u001b[39mself\u001b[39m\u001b[39m.\u001b[39mstdout:\n\u001b[0;32m-> 1015\u001b[0m     stdout \u001b[39m=\u001b[39m \u001b[39mself\u001b[39;49m\u001b[39m.\u001b[39;49mstdout\u001b[39m.\u001b[39;49mread()\n\u001b[1;32m   1016\u001b[0m     \u001b[39mself\u001b[39m\u001b[39m.\u001b[39mstdout\u001b[39m.\u001b[39mclose()\n\u001b[1;32m   1017\u001b[0m \u001b[39melif\u001b[39;00m \u001b[39mself\u001b[39m\u001b[39m.\u001b[39mstderr:\n",
      "\u001b[0;31mKeyboardInterrupt\u001b[0m: "
     ]
    }
   ],
   "source": [
    "means_exaust = []\n",
    "mean_files(means_exaust, 'exaust', 4)\n",
    "with open('Output/exaust.txt', 'w') as file:\n",
    "    for i in range(len(means_exaust)):\n",
    "        file.write(f'{means_exaust[i]}\\n')"
   ]
  },
  {
   "cell_type": "code",
   "execution_count": null,
   "metadata": {},
   "outputs": [],
   "source": [
    "sizes_exaust = ['10', '100', '1e3', '1e4']\n",
    "\n",
    "plt.figure(figsize = (10, 7))\n",
    "plt.plot(sizes_exaust, means_exaust)\n",
    "plt.xlabel('Tamanho do arquivo')\n",
    "plt.ylabel('Tempo de execução (ms)')\n",
    "plt.title('Tempo de execução por tamanho do arquivo')\n",
    "plt.grid(True)\n",
    "plt.show()"
   ]
  },
  {
   "cell_type": "markdown",
   "metadata": {},
   "source": [
    "---\n",
    "### Busca Exaustiva usando OpenMP\n",
    "\n",
    "No segundo método, a busca exaustiva foi paralelizada usando a biblioteca OpenMP:"
   ]
  },
  {
   "cell_type": "code",
   "execution_count": null,
   "metadata": {},
   "outputs": [],
   "source": [
    "means_open = []\n",
    "mean_files(means_open, 'open', 4)\n",
    "with open('Output/exaust.txt', 'w') as file:\n",
    "    for i in range(len(means_open)):\n",
    "        file.write(f'{means_open[i]}\\n')"
   ]
  },
  {
   "cell_type": "code",
   "execution_count": null,
   "metadata": {},
   "outputs": [],
   "source": [
    "sizes_open = ['10', '100', '1e3', '1e4']\n",
    "\n",
    "plt.figure(figsize = (10, 7))\n",
    "plt.plot(sizes_open, means_open)\n",
    "plt.xlabel('Tamanho do arquivo')\n",
    "plt.ylabel('Tempo de execução (ms)')\n",
    "plt.title('Tempo de execução por tamanho do arquivo')\n",
    "plt.grid(True)\n",
    "plt.show()"
   ]
  },
  {
   "cell_type": "code",
   "execution_count": null,
   "metadata": {},
   "outputs": [],
   "source": [
    "plt.figure(figsize = (10, 7))\n",
    "plt.plot(sizes_exaust, means_exaust)\n",
    "plt.plot(sizes_open, means_open)\n",
    "plt.legend(['Busca Exaustiva', 'OpenMP'])\n",
    "plt.xlabel('Tamanho do arquivo')\n",
    "plt.ylabel('Tempo de execução (ms)')\n",
    "plt.title('Tempo de execução por tamanho do arquivo')\n",
    "plt.grid(True)\n",
    "plt.show()"
   ]
  },
  {
   "cell_type": "markdown",
   "metadata": {},
   "source": [
    "---\n",
    "### Busca Exaustiva dentro da gpu\n",
    "\n",
    "Por fim, foi feito uma Busca Exaustiva dentro da GPU:"
   ]
  },
  {
   "cell_type": "code",
   "execution_count": 8,
   "metadata": {},
   "outputs": [],
   "source": [
    "means_gpu = []\n",
    "mean_files(means_gpu, 'gpu', 4)\n",
    "with open('Output/exaust.txt', 'w') as file:\n",
    "    for i in range(len(means_gpu)):\n",
    "        file.write(f'{means_gpu[i]}\\n')"
   ]
  },
  {
   "cell_type": "code",
   "execution_count": 9,
   "metadata": {},
   "outputs": [
    {
     "data": {
      "image/png": "[encoded data removed]",
      "text/plain": [
       "<Figure size 720x504 with 1 Axes>"
      ]
     },
     "metadata": {
      "needs_background": "light"
     },
     "output_type": "display_data"
    }
   ],
   "source": [
    "sizes_gpu = ['10', '100', '1e3', '1e4']\n",
    "\n",
    "plt.figure(figsize = (10, 7))\n",
    "plt.plot(sizes_gpu, means_gpu)\n",
    "plt.xlabel('Tamanho do arquivo')\n",
    "plt.ylabel('Tempo de execução (ms)')\n",
    "plt.title('Tempo de execução por tamanho do arquivo')\n",
    "plt.grid(True)\n",
    "plt.show()"
   ]
  },
  {
   "cell_type": "markdown",
   "metadata": {},
   "source": [
    "E uma comparação entre os três programas foi feito:"
   ]
  },
  {
   "cell_type": "code",
   "execution_count": null,
   "metadata": {},
   "outputs": [],
   "source": [
    "exaust = []\n",
    "openp = []\n",
    "gpu = []\n",
    "\n",
    "while open('Output/gpu.txt', 'r').readline() != '':\n",
    "    exaust.append(float(open('Output/exaust.txt', 'r').readline()))\n",
    "    openp.append(float(open('Output/open.txt', 'r').readline()))\n",
    "    gpu.append(float(open('Output/gpu.txt', 'r').readline()))\n",
    "\n",
    "fig, axs = plt.subplots(2, figsize = (13, 10), sharex=True)\n",
    "fig.suptitle('Tempo de execução por tamanho do arquivo')\n",
    "\n",
    "plt.rcParams['font.size'] = '14'\n",
    "\n",
    "axs[0].set_title('Escala Normal')\n",
    "axs[0].ticklabel_format(axis=\"y\", style=\"sci\", scilimits=(0,0))\n",
    "\n",
    "axs[1].set_title('Escala Log')\n",
    "axs[1].set_yscale('log')\n",
    "\n",
    "for ax in axs:\n",
    "    ax.plot(sizes_exaust, means_exaust)\n",
    "    ax.plot(sizes_open, means_open)\n",
    "    ax.plot(sizes_gpu, means_gpu)\n",
    "    ax.legend(['Busca Exaustiva', 'OpenMP', 'GPU'])\n",
    "    ax.grid(True)\n",
    "\n",
    "for ax in axs.flat:\n",
    "    ax.set(xlabel='Tamanho do arquivo', ylabel='Tempo de execução (ms)')\n",
    "\n",
    "for ax in axs.flat:\n",
    "    ax.label_outer()"
   ]
  },
  {
   "cell_type": "markdown",
   "metadata": {},
   "source": [
    "Conclusão"
   ]
  }
 ],
 "metadata": {
  "kernelspec": {
   "display_name": "Python 3.8.10 64-bit",
   "language": "python",
   "name": "python3"
  },
  "language_info": {
   "codemirror_mode": {
    "name": "ipython",
    "version": 3
   },
   "file_extension": ".py",
   "mimetype": "text/x-python",
   "name": "python",
   "nbconvert_exporter": "python",
   "pygments_lexer": "ipython3",
   "version": "3.8.10"
  },
  "orig_nbformat": 4,
  "vscode": {
   "interpreter": {
    "hash": "e7370f93d1d0cde622a1f8e1c04877d8463912d04d973331ad4851f04de6915a"
   }
  }
 },
 "nbformat": 4,
 "nbformat_minor": 2
}
