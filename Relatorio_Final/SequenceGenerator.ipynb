{
  "cells": [
    {
      "cell_type": "markdown",
      "metadata": {
        "id": "L2gAYBjX_MBM"
      },
      "source": [
        "**GERADOR DE INSTÂNCIAS PARA COMPARAÇÃO DE SEQUENCIAS DE DNA**\n",
        "\n",
        "Para usar este gerador, você deve fornecer três parâmetros:\n",
        "\n",
        "n = tamanho da primeira sequencia \n",
        "\n",
        "m = tamanho da segunda instância \n",
        "\n",
        "file = nome do arquivo da instância a ser gerada"
      ]
    },
    {
      "cell_type": "code",
      "execution_count": 1,
      "metadata": {
        "colab": {
          "base_uri": "https://localhost:8080/"
        },
        "id": "_s7Cbahf_LId",
        "outputId": "1ac73e4b-1f04-4170-d159-bb3a861bc4d6"
      },
      "outputs": [
        {
          "name": "stdout",
          "output_type": "stream",
          "text": [
            "1 levels done\n",
            "2 levels done\n",
            "3 levels done\n",
            "4 levels done\n"
          ]
        }
      ],
      "source": [
        "import random, os\n",
        "\n",
        "levels = ['1', '2', '3', '4']\n",
        "m_list = [1e1, 1e2, 1e3, 1e4]\n",
        "n = 50\n",
        "\n",
        "for i in range(len(levels)):\n",
        "     for j in range(5):\n",
        "          file = f'Entradas/entradas_{levels[i]}/dna{j}.seq'\n",
        "\n",
        "          if not os.path.exists(os.path.dirname(file)):\n",
        "               os.makedirs(os.path.dirname(file))\n",
        "\n",
        "          with open(file, 'w+') as f:\n",
        "               seq=[str(n)+'\\n',\n",
        "                    str(int(m_list[i]))+'\\n',\n",
        "                    ''.join(random.choices(['A','T','C','G','-'],k=n))+'\\n',\n",
        "                    ''.join(random.choices(['A','T','C','G','-'],k=int(m_list[i])))]\n",
        "               f.writelines(seq)\n",
        "\n",
        "     print(f'{levels[i]} levels done')"
      ]
    }
  ],
  "metadata": {
    "colab": {
      "collapsed_sections": [],
      "name": "SequenceGenerator.ipynb",
      "provenance": []
    },
    "interpreter": {
      "hash": "916dbcbb3f70747c44a77c7bcd40155683ae19c65e1c03b4aa3499c5328201f1"
    },
    "kernelspec": {
      "display_name": "Python 3.8.10 64-bit",
      "language": "python",
      "name": "python3"
    },
    "language_info": {
      "codemirror_mode": {
        "name": "ipython",
        "version": 3
      },
      "file_extension": ".py",
      "mimetype": "text/x-python",
      "name": "python",
      "nbconvert_exporter": "python",
      "pygments_lexer": "ipython3",
      "version": "3.8.10"
    }
  },
  "nbformat": 4,
  "nbformat_minor": 0
}
